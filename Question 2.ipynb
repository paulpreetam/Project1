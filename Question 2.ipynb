{
 "cells": [
  {
   "cell_type": "code",
   "execution_count": 14,
   "metadata": {},
   "outputs": [],
   "source": [
    "#Cancellation Data: All American Airlines"
   ]
  },
  {
   "cell_type": "code",
   "execution_count": 2,
   "metadata": {},
   "outputs": [],
   "source": [
    "# Dependencies\n",
    "import matplotlib.pyplot as plt\n",
    "import numpy as np\n",
    "import pandas as pd"
   ]
  },
  {
   "cell_type": "code",
   "execution_count": 3,
   "metadata": {},
   "outputs": [],
   "source": [
    "# Load in CSV\n",
    "data19 = pd.read_csv(\"Resources/cancels2019.csv\")\n",
    "data20 = pd.read_csv(\"Resources/cancels2020.csv\")"
   ]
  },
  {
   "cell_type": "code",
   "execution_count": 4,
   "metadata": {},
   "outputs": [
    {
     "data": {
      "text/html": [
       "<div>\n",
       "<style scoped>\n",
       "    .dataframe tbody tr th:only-of-type {\n",
       "        vertical-align: middle;\n",
       "    }\n",
       "\n",
       "    .dataframe tbody tr th {\n",
       "        vertical-align: top;\n",
       "    }\n",
       "\n",
       "    .dataframe thead th {\n",
       "        text-align: right;\n",
       "    }\n",
       "</style>\n",
       "<table border=\"1\" class=\"dataframe\">\n",
       "  <thead>\n",
       "    <tr style=\"text-align: right;\">\n",
       "      <th></th>\n",
       "      <th>Unnamed: 0</th>\n",
       "      <th>Scheduled Flights</th>\n",
       "      <th>Cancelled Flights</th>\n",
       "      <th>Percent Cancelled</th>\n",
       "    </tr>\n",
       "  </thead>\n",
       "  <tbody>\n",
       "    <tr>\n",
       "      <th>0</th>\n",
       "      <td>New York (JFK)</td>\n",
       "      <td>2062</td>\n",
       "      <td>30</td>\n",
       "      <td>1.45%</td>\n",
       "    </tr>\n",
       "    <tr>\n",
       "      <th>1</th>\n",
       "      <td>Los Angeles (LAX)</td>\n",
       "      <td>5271</td>\n",
       "      <td>59</td>\n",
       "      <td>1.12%</td>\n",
       "    </tr>\n",
       "    <tr>\n",
       "      <th>2</th>\n",
       "      <td>Chicago (ORD)</td>\n",
       "      <td>8183</td>\n",
       "      <td>354</td>\n",
       "      <td>4.33%</td>\n",
       "    </tr>\n",
       "    <tr>\n",
       "      <th>3</th>\n",
       "      <td>Dallas/Fort Worth (DFW)</td>\n",
       "      <td>19055</td>\n",
       "      <td>733</td>\n",
       "      <td>3.85%</td>\n",
       "    </tr>\n",
       "    <tr>\n",
       "      <th>4</th>\n",
       "      <td>Denver (DEN)</td>\n",
       "      <td>1238</td>\n",
       "      <td>42</td>\n",
       "      <td>3.39%</td>\n",
       "    </tr>\n",
       "    <tr>\n",
       "      <th>5</th>\n",
       "      <td>Totals</td>\n",
       "      <td>35809</td>\n",
       "      <td>1218</td>\n",
       "      <td>3.40%</td>\n",
       "    </tr>\n",
       "  </tbody>\n",
       "</table>\n",
       "</div>"
      ],
      "text/plain": [
       "                Unnamed: 0  Scheduled Flights  Cancelled Flights  \\\n",
       "0           New York (JFK)               2062                 30   \n",
       "1        Los Angeles (LAX)               5271                 59   \n",
       "2            Chicago (ORD)               8183                354   \n",
       "3  Dallas/Fort Worth (DFW)              19055                733   \n",
       "4             Denver (DEN)               1238                 42   \n",
       "5                   Totals              35809               1218   \n",
       "\n",
       "  Percent Cancelled  \n",
       "0             1.45%  \n",
       "1             1.12%  \n",
       "2             4.33%  \n",
       "3             3.85%  \n",
       "4             3.39%  \n",
       "5             3.40%  "
      ]
     },
     "execution_count": 4,
     "metadata": {},
     "output_type": "execute_result"
    }
   ],
   "source": [
    "data19_df = pd.DataFrame(data19)\n",
    "data19_df"
   ]
  },
  {
   "cell_type": "code",
   "execution_count": 5,
   "metadata": {},
   "outputs": [
    {
     "data": {
      "text/html": [
       "<div>\n",
       "<style scoped>\n",
       "    .dataframe tbody tr th:only-of-type {\n",
       "        vertical-align: middle;\n",
       "    }\n",
       "\n",
       "    .dataframe tbody tr th {\n",
       "        vertical-align: top;\n",
       "    }\n",
       "\n",
       "    .dataframe thead th {\n",
       "        text-align: right;\n",
       "    }\n",
       "</style>\n",
       "<table border=\"1\" class=\"dataframe\">\n",
       "  <thead>\n",
       "    <tr style=\"text-align: right;\">\n",
       "      <th></th>\n",
       "      <th>Unnamed: 0</th>\n",
       "      <th>Scheduled Flights</th>\n",
       "      <th>Cancelled Flights</th>\n",
       "      <th>Percent Cancelled</th>\n",
       "    </tr>\n",
       "  </thead>\n",
       "  <tbody>\n",
       "    <tr>\n",
       "      <th>0</th>\n",
       "      <td>New York (JFK)</td>\n",
       "      <td>1093</td>\n",
       "      <td>510</td>\n",
       "      <td>46.66%</td>\n",
       "    </tr>\n",
       "    <tr>\n",
       "      <th>1</th>\n",
       "      <td>Los Angeles (LAX)</td>\n",
       "      <td>3486</td>\n",
       "      <td>956</td>\n",
       "      <td>27.42%</td>\n",
       "    </tr>\n",
       "    <tr>\n",
       "      <th>2</th>\n",
       "      <td>Chicago (ORD)</td>\n",
       "      <td>5092</td>\n",
       "      <td>1768</td>\n",
       "      <td>34.72%</td>\n",
       "    </tr>\n",
       "    <tr>\n",
       "      <th>3</th>\n",
       "      <td>Dallas/Fort Worth (DFW)</td>\n",
       "      <td>14189</td>\n",
       "      <td>5492</td>\n",
       "      <td>38.71%</td>\n",
       "    </tr>\n",
       "    <tr>\n",
       "      <th>4</th>\n",
       "      <td>Denver (DEN)</td>\n",
       "      <td>892</td>\n",
       "      <td>251</td>\n",
       "      <td>28.14%</td>\n",
       "    </tr>\n",
       "    <tr>\n",
       "      <th>5</th>\n",
       "      <td>Totals</td>\n",
       "      <td>24752</td>\n",
       "      <td>8977</td>\n",
       "      <td>36.27%</td>\n",
       "    </tr>\n",
       "  </tbody>\n",
       "</table>\n",
       "</div>"
      ],
      "text/plain": [
       "                Unnamed: 0  Scheduled Flights  Cancelled Flights  \\\n",
       "0           New York (JFK)               1093                510   \n",
       "1        Los Angeles (LAX)               3486                956   \n",
       "2            Chicago (ORD)               5092               1768   \n",
       "3  Dallas/Fort Worth (DFW)              14189               5492   \n",
       "4             Denver (DEN)                892                251   \n",
       "5                   Totals              24752               8977   \n",
       "\n",
       "  Percent Cancelled  \n",
       "0            46.66%  \n",
       "1            27.42%  \n",
       "2            34.72%  \n",
       "3            38.71%  \n",
       "4            28.14%  \n",
       "5            36.27%  "
      ]
     },
     "execution_count": 5,
     "metadata": {},
     "output_type": "execute_result"
    }
   ],
   "source": [
    "data20_df = pd.DataFrame(data20)\n",
    "data20_df"
   ]
  },
  {
   "cell_type": "code",
   "execution_count": 8,
   "metadata": {},
   "outputs": [
    {
     "data": {
      "text/html": [
       "<div>\n",
       "<style scoped>\n",
       "    .dataframe tbody tr th:only-of-type {\n",
       "        vertical-align: middle;\n",
       "    }\n",
       "\n",
       "    .dataframe tbody tr th {\n",
       "        vertical-align: top;\n",
       "    }\n",
       "\n",
       "    .dataframe thead th {\n",
       "        text-align: right;\n",
       "    }\n",
       "</style>\n",
       "<table border=\"1\" class=\"dataframe\">\n",
       "  <thead>\n",
       "    <tr style=\"text-align: right;\">\n",
       "      <th></th>\n",
       "      <th>Unnamed: 0</th>\n",
       "      <th>Scheduled Flights_x</th>\n",
       "      <th>Cancelled Flights_x</th>\n",
       "      <th>Percent Cancelled_x</th>\n",
       "      <th>Scheduled Flights_y</th>\n",
       "      <th>Cancelled Flights_y</th>\n",
       "      <th>Percent Cancelled_y</th>\n",
       "    </tr>\n",
       "  </thead>\n",
       "  <tbody>\n",
       "    <tr>\n",
       "      <th>0</th>\n",
       "      <td>New York (JFK)</td>\n",
       "      <td>2062</td>\n",
       "      <td>30</td>\n",
       "      <td>1.45%</td>\n",
       "      <td>1093</td>\n",
       "      <td>510</td>\n",
       "      <td>46.66%</td>\n",
       "    </tr>\n",
       "    <tr>\n",
       "      <th>1</th>\n",
       "      <td>Los Angeles (LAX)</td>\n",
       "      <td>5271</td>\n",
       "      <td>59</td>\n",
       "      <td>1.12%</td>\n",
       "      <td>3486</td>\n",
       "      <td>956</td>\n",
       "      <td>27.42%</td>\n",
       "    </tr>\n",
       "    <tr>\n",
       "      <th>2</th>\n",
       "      <td>Chicago (ORD)</td>\n",
       "      <td>8183</td>\n",
       "      <td>354</td>\n",
       "      <td>4.33%</td>\n",
       "      <td>5092</td>\n",
       "      <td>1768</td>\n",
       "      <td>34.72%</td>\n",
       "    </tr>\n",
       "    <tr>\n",
       "      <th>3</th>\n",
       "      <td>Dallas/Fort Worth (DFW)</td>\n",
       "      <td>19055</td>\n",
       "      <td>733</td>\n",
       "      <td>3.85%</td>\n",
       "      <td>14189</td>\n",
       "      <td>5492</td>\n",
       "      <td>38.71%</td>\n",
       "    </tr>\n",
       "    <tr>\n",
       "      <th>4</th>\n",
       "      <td>Denver (DEN)</td>\n",
       "      <td>1238</td>\n",
       "      <td>42</td>\n",
       "      <td>3.39%</td>\n",
       "      <td>892</td>\n",
       "      <td>251</td>\n",
       "      <td>28.14%</td>\n",
       "    </tr>\n",
       "    <tr>\n",
       "      <th>5</th>\n",
       "      <td>Totals</td>\n",
       "      <td>35809</td>\n",
       "      <td>1218</td>\n",
       "      <td>3.40%</td>\n",
       "      <td>24752</td>\n",
       "      <td>8977</td>\n",
       "      <td>36.27%</td>\n",
       "    </tr>\n",
       "  </tbody>\n",
       "</table>\n",
       "</div>"
      ],
      "text/plain": [
       "                Unnamed: 0  Scheduled Flights_x  Cancelled Flights_x  \\\n",
       "0           New York (JFK)                 2062                   30   \n",
       "1        Los Angeles (LAX)                 5271                   59   \n",
       "2            Chicago (ORD)                 8183                  354   \n",
       "3  Dallas/Fort Worth (DFW)                19055                  733   \n",
       "4             Denver (DEN)                 1238                   42   \n",
       "5                   Totals                35809                 1218   \n",
       "\n",
       "  Percent Cancelled_x  Scheduled Flights_y  Cancelled Flights_y  \\\n",
       "0               1.45%                 1093                  510   \n",
       "1               1.12%                 3486                  956   \n",
       "2               4.33%                 5092                 1768   \n",
       "3               3.85%                14189                 5492   \n",
       "4               3.39%                  892                  251   \n",
       "5               3.40%                24752                 8977   \n",
       "\n",
       "  Percent Cancelled_y  \n",
       "0              46.66%  \n",
       "1              27.42%  \n",
       "2              34.72%  \n",
       "3              38.71%  \n",
       "4              28.14%  \n",
       "5              36.27%  "
      ]
     },
     "execution_count": 8,
     "metadata": {},
     "output_type": "execute_result"
    }
   ],
   "source": [
    "combined = pd.merge(data19_df, data20_df, how='outer', on='Unnamed: 0')\n",
    "combined"
   ]
  },
  {
   "cell_type": "code",
   "execution_count": 9,
   "metadata": {},
   "outputs": [],
   "source": [
    "combined = combined.rename(columns={\"Unnamed: 0\":\"Major Airport\",\"Scheduled Flights_x\":\"2019 Scheduled Flights\",\"Cancelled Flights_x\":\"2019 Cancelled Flights\"})"
   ]
  },
  {
   "cell_type": "code",
   "execution_count": 10,
   "metadata": {},
   "outputs": [
    {
     "data": {
      "text/html": [
       "<div>\n",
       "<style scoped>\n",
       "    .dataframe tbody tr th:only-of-type {\n",
       "        vertical-align: middle;\n",
       "    }\n",
       "\n",
       "    .dataframe tbody tr th {\n",
       "        vertical-align: top;\n",
       "    }\n",
       "\n",
       "    .dataframe thead th {\n",
       "        text-align: right;\n",
       "    }\n",
       "</style>\n",
       "<table border=\"1\" class=\"dataframe\">\n",
       "  <thead>\n",
       "    <tr style=\"text-align: right;\">\n",
       "      <th></th>\n",
       "      <th>Major Airport</th>\n",
       "      <th>2019 Scheduled Flights</th>\n",
       "      <th>2019 Cancelled Flights</th>\n",
       "      <th>Percent Cancelled_x</th>\n",
       "      <th>Scheduled Flights_y</th>\n",
       "      <th>Cancelled Flights_y</th>\n",
       "      <th>Percent Cancelled_y</th>\n",
       "    </tr>\n",
       "  </thead>\n",
       "  <tbody>\n",
       "    <tr>\n",
       "      <th>0</th>\n",
       "      <td>New York (JFK)</td>\n",
       "      <td>2062</td>\n",
       "      <td>30</td>\n",
       "      <td>1.45%</td>\n",
       "      <td>1093</td>\n",
       "      <td>510</td>\n",
       "      <td>46.66%</td>\n",
       "    </tr>\n",
       "    <tr>\n",
       "      <th>1</th>\n",
       "      <td>Los Angeles (LAX)</td>\n",
       "      <td>5271</td>\n",
       "      <td>59</td>\n",
       "      <td>1.12%</td>\n",
       "      <td>3486</td>\n",
       "      <td>956</td>\n",
       "      <td>27.42%</td>\n",
       "    </tr>\n",
       "    <tr>\n",
       "      <th>2</th>\n",
       "      <td>Chicago (ORD)</td>\n",
       "      <td>8183</td>\n",
       "      <td>354</td>\n",
       "      <td>4.33%</td>\n",
       "      <td>5092</td>\n",
       "      <td>1768</td>\n",
       "      <td>34.72%</td>\n",
       "    </tr>\n",
       "    <tr>\n",
       "      <th>3</th>\n",
       "      <td>Dallas/Fort Worth (DFW)</td>\n",
       "      <td>19055</td>\n",
       "      <td>733</td>\n",
       "      <td>3.85%</td>\n",
       "      <td>14189</td>\n",
       "      <td>5492</td>\n",
       "      <td>38.71%</td>\n",
       "    </tr>\n",
       "    <tr>\n",
       "      <th>4</th>\n",
       "      <td>Denver (DEN)</td>\n",
       "      <td>1238</td>\n",
       "      <td>42</td>\n",
       "      <td>3.39%</td>\n",
       "      <td>892</td>\n",
       "      <td>251</td>\n",
       "      <td>28.14%</td>\n",
       "    </tr>\n",
       "    <tr>\n",
       "      <th>5</th>\n",
       "      <td>Totals</td>\n",
       "      <td>35809</td>\n",
       "      <td>1218</td>\n",
       "      <td>3.40%</td>\n",
       "      <td>24752</td>\n",
       "      <td>8977</td>\n",
       "      <td>36.27%</td>\n",
       "    </tr>\n",
       "  </tbody>\n",
       "</table>\n",
       "</div>"
      ],
      "text/plain": [
       "             Major Airport  2019 Scheduled Flights  2019 Cancelled Flights  \\\n",
       "0           New York (JFK)                    2062                      30   \n",
       "1        Los Angeles (LAX)                    5271                      59   \n",
       "2            Chicago (ORD)                    8183                     354   \n",
       "3  Dallas/Fort Worth (DFW)                   19055                     733   \n",
       "4             Denver (DEN)                    1238                      42   \n",
       "5                   Totals                   35809                    1218   \n",
       "\n",
       "  Percent Cancelled_x  Scheduled Flights_y  Cancelled Flights_y  \\\n",
       "0               1.45%                 1093                  510   \n",
       "1               1.12%                 3486                  956   \n",
       "2               4.33%                 5092                 1768   \n",
       "3               3.85%                14189                 5492   \n",
       "4               3.39%                  892                  251   \n",
       "5               3.40%                24752                 8977   \n",
       "\n",
       "  Percent Cancelled_y  \n",
       "0              46.66%  \n",
       "1              27.42%  \n",
       "2              34.72%  \n",
       "3              38.71%  \n",
       "4              28.14%  \n",
       "5              36.27%  "
      ]
     },
     "execution_count": 10,
     "metadata": {},
     "output_type": "execute_result"
    }
   ],
   "source": [
    "combined"
   ]
  },
  {
   "cell_type": "code",
   "execution_count": 12,
   "metadata": {},
   "outputs": [],
   "source": [
    "combined = combined.rename(columns={\"Scheduled Flights_y\":\"2020 Scheduled Flights\",\n",
    "                                    \"Cancelled Flights_y\":\"2020 Canceled Flights\",\n",
    "                                   \"Percent Cancelled_x\":\"Percent Cancelled 2019\",\n",
    "                                   \"Percent Cancelled_y\":\"Percent Cancelled 2020\"})"
   ]
  },
  {
   "cell_type": "code",
   "execution_count": 13,
   "metadata": {},
   "outputs": [
    {
     "data": {
      "text/html": [
       "<div>\n",
       "<style scoped>\n",
       "    .dataframe tbody tr th:only-of-type {\n",
       "        vertical-align: middle;\n",
       "    }\n",
       "\n",
       "    .dataframe tbody tr th {\n",
       "        vertical-align: top;\n",
       "    }\n",
       "\n",
       "    .dataframe thead th {\n",
       "        text-align: right;\n",
       "    }\n",
       "</style>\n",
       "<table border=\"1\" class=\"dataframe\">\n",
       "  <thead>\n",
       "    <tr style=\"text-align: right;\">\n",
       "      <th></th>\n",
       "      <th>Major Airport</th>\n",
       "      <th>2019 Scheduled Flights</th>\n",
       "      <th>2019 Cancelled Flights</th>\n",
       "      <th>Percent Cancelled 2019</th>\n",
       "      <th>2020 Scheduled Flights</th>\n",
       "      <th>2020 Cancelled Flights</th>\n",
       "      <th>Percent Cancelled 2020</th>\n",
       "    </tr>\n",
       "  </thead>\n",
       "  <tbody>\n",
       "    <tr>\n",
       "      <th>0</th>\n",
       "      <td>New York (JFK)</td>\n",
       "      <td>2062</td>\n",
       "      <td>30</td>\n",
       "      <td>1.45%</td>\n",
       "      <td>1093</td>\n",
       "      <td>510</td>\n",
       "      <td>46.66%</td>\n",
       "    </tr>\n",
       "    <tr>\n",
       "      <th>1</th>\n",
       "      <td>Los Angeles (LAX)</td>\n",
       "      <td>5271</td>\n",
       "      <td>59</td>\n",
       "      <td>1.12%</td>\n",
       "      <td>3486</td>\n",
       "      <td>956</td>\n",
       "      <td>27.42%</td>\n",
       "    </tr>\n",
       "    <tr>\n",
       "      <th>2</th>\n",
       "      <td>Chicago (ORD)</td>\n",
       "      <td>8183</td>\n",
       "      <td>354</td>\n",
       "      <td>4.33%</td>\n",
       "      <td>5092</td>\n",
       "      <td>1768</td>\n",
       "      <td>34.72%</td>\n",
       "    </tr>\n",
       "    <tr>\n",
       "      <th>3</th>\n",
       "      <td>Dallas/Fort Worth (DFW)</td>\n",
       "      <td>19055</td>\n",
       "      <td>733</td>\n",
       "      <td>3.85%</td>\n",
       "      <td>14189</td>\n",
       "      <td>5492</td>\n",
       "      <td>38.71%</td>\n",
       "    </tr>\n",
       "    <tr>\n",
       "      <th>4</th>\n",
       "      <td>Denver (DEN)</td>\n",
       "      <td>1238</td>\n",
       "      <td>42</td>\n",
       "      <td>3.39%</td>\n",
       "      <td>892</td>\n",
       "      <td>251</td>\n",
       "      <td>28.14%</td>\n",
       "    </tr>\n",
       "    <tr>\n",
       "      <th>5</th>\n",
       "      <td>Totals</td>\n",
       "      <td>35809</td>\n",
       "      <td>1218</td>\n",
       "      <td>3.40%</td>\n",
       "      <td>24752</td>\n",
       "      <td>8977</td>\n",
       "      <td>36.27%</td>\n",
       "    </tr>\n",
       "  </tbody>\n",
       "</table>\n",
       "</div>"
      ],
      "text/plain": [
       "             Major Airport  2019 Scheduled Flights  2019 Cancelled Flights  \\\n",
       "0           New York (JFK)                    2062                      30   \n",
       "1        Los Angeles (LAX)                    5271                      59   \n",
       "2            Chicago (ORD)                    8183                     354   \n",
       "3  Dallas/Fort Worth (DFW)                   19055                     733   \n",
       "4             Denver (DEN)                    1238                      42   \n",
       "5                   Totals                   35809                    1218   \n",
       "\n",
       "  Percent Cancelled 2019  2020 Scheduled Flights  2020 Cancelled Flights  \\\n",
       "0                  1.45%                    1093                     510   \n",
       "1                  1.12%                    3486                     956   \n",
       "2                  4.33%                    5092                    1768   \n",
       "3                  3.85%                   14189                    5492   \n",
       "4                  3.39%                     892                     251   \n",
       "5                  3.40%                   24752                    8977   \n",
       "\n",
       "  Percent Cancelled 2020  \n",
       "0                 46.66%  \n",
       "1                 27.42%  \n",
       "2                 34.72%  \n",
       "3                 38.71%  \n",
       "4                 28.14%  \n",
       "5                 36.27%  "
      ]
     },
     "execution_count": 13,
     "metadata": {},
     "output_type": "execute_result"
    }
   ],
   "source": [
    "combined"
   ]
  },
  {
   "cell_type": "code",
   "execution_count": 61,
   "metadata": {},
   "outputs": [],
   "source": [
    "#JFK CANCELED FLIGHTS IN 2019\n",
    "JFK2019 = [\"JFK Scheduled Flights\",\"JFK Canceled Flights\"]\n",
    "JFKcancels1 = [2062,30]\n",
    "colors = [\"green\",\"red\"]\n",
    "explode = (0,0.2)"
   ]
  },
  {
   "cell_type": "code",
   "execution_count": 62,
   "metadata": {},
   "outputs": [
    {
     "data": {
      "text/plain": [
       "(-1.1074636644422344, 1.10404965464259, -1.105815586654509, 1.1013822265080528)"
      ]
     },
     "execution_count": 62,
     "metadata": {},
     "output_type": "execute_result"
    },
    {
     "data": {
      "image/png": "[encoded data removed]",
      "text/plain": [
       "<Figure size 432x288 with 1 Axes>"
      ]
     },
     "metadata": {},
     "output_type": "display_data"
    }
   ],
   "source": [
    "# Tell matplotlib to create a pie chart based upon the above data\n",
    "plt.pie(JFKcancels1, explode=explode, labels=JFK2019, colors=colors,\n",
    "        autopct=\"%1.1f%%\", shadow=True, pctdistance=1.2, labeldistance=.05, startangle=140)\n",
    "# Create axes which are equal so we have a perfect circle\n",
    "plt.axis(\"equal\")"
   ]
  },
  {
   "cell_type": "code",
   "execution_count": 63,
   "metadata": {},
   "outputs": [],
   "source": [
    "#JFK CANCELED FLIGHTS IN 2020\n",
    "JFK2020 = [\"JFK Scheduled Flights\",\"JFK Canceled Flights\"]\n",
    "JFKcancels2 = [1063,510]\n",
    "colors = [\"green\",\"red\"]\n",
    "explode = (0,0.2)"
   ]
  },
  {
   "cell_type": "code",
   "execution_count": 64,
   "metadata": {},
   "outputs": [
    {
     "data": {
      "text/plain": [
       "(-1.1072348951923572,\n",
       " 1.198153353392123,\n",
       " -1.1149292356484843,\n",
       " 1.2875398560170608)"
      ]
     },
     "execution_count": 64,
     "metadata": {},
     "output_type": "execute_result"
    },
    {
     "data": {
      "image/png": "[encoded data removed]",
      "text/plain": [
       "<Figure size 432x288 with 1 Axes>"
      ]
     },
     "metadata": {},
     "output_type": "display_data"
    }
   ],
   "source": [
    "# Tell matplotlib to create a pie chart based upon the above data\n",
    "plt.pie(JFKcancels2, explode=explode, labels=JFK2020, colors=colors,\n",
    "        autopct=\"%1.1f%%\", shadow=True, startangle=120, pctdistance=.5, labeldistance=1.2)\n",
    "# Create axes which are equal so we have a perfect circle\n",
    "plt.axis(\"equal\")"
   ]
  },
  {
   "cell_type": "code",
   "execution_count": 74,
   "metadata": {},
   "outputs": [],
   "source": [
    "AirportCancelations = [\"JFK\",\"LAX\", \"ORD\", \"DFW\", \"DEN\"]\n",
    "AllCancels = [46.66,27.42,34.72,38.71,28.14]\n",
    "colors = [\"yellow\",\"red\",\"green\",\"lightblue\",\"purple\"]\n",
    "explode = (0,0,0,0,0)"
   ]
  },
  {
   "cell_type": "code",
   "execution_count": 75,
   "metadata": {},
   "outputs": [
    {
     "data": {
      "text/plain": [
       "(-1.1091001554190754,\n",
       " 1.1260287472287618,\n",
       " -1.105132128507442,\n",
       " 1.1036148257217877)"
      ]
     },
     "execution_count": 75,
     "metadata": {},
     "output_type": "execute_result"
    },
    {
     "data": {
      "image/png": "[encoded data removed]",
      "text/plain": [
       "<Figure size 432x288 with 1 Axes>"
      ]
     },
     "metadata": {},
     "output_type": "display_data"
    }
   ],
   "source": [
    "# Tell matplotlib to create a pie chart based upon the above data\n",
    "plt.pie(AllCancels, explode=explode, labels=AirportCancelations, colors=colors,\n",
    "        autopct=\"%1.1f%%\", shadow=True, startangle=120, pctdistance=.5, labeldistance=1.2)\n",
    "# Create axes which are equal so we have a perfect circle\n",
    "plt.axis(\"equal\")"
   ]
  },
  {
   "cell_type": "code",
   "execution_count": null,
   "metadata": {},
   "outputs": [],
   "source": []
  }
 ],
 "metadata": {
  "kernelspec": {
   "display_name": "Python 3",
   "language": "python",
   "name": "python3"
  },
  "language_info": {
   "codemirror_mode": {
    "name": "ipython",
    "version": 3
   },
   "file_extension": ".py",
   "mimetype": "text/x-python",
   "name": "python",
   "nbconvert_exporter": "python",
   "pygments_lexer": "ipython3",
   "version": "3.8.5"
  }
 },
 "nbformat": 4,
 "nbformat_minor": 4
}
