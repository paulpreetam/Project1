{
 "cells": [
  {
   "cell_type": "code",
   "execution_count": null,
   "metadata": {},
   "outputs": [],
   "source": [
    "#Cancellation Data"
   ]
  },
  {
   "cell_type": "code",
   "execution_count": 1,
   "metadata": {},
   "outputs": [],
   "source": [
    "# Dependencies\n",
    "import matplotlib.pyplot as plt\n",
    "import numpy as np\n",
    "import pandas as pd"
   ]
  },
  {
   "cell_type": "code",
   "execution_count": 2,
   "metadata": {},
   "outputs": [],
   "source": [
    "# Load in CSV\n",
    "data19 = pd.read_csv(\"Resources/cancels2019.csv\")\n",
    "data20 = pd.read_csv(\"Resources/cancels2020.csv\")"
   ]
  },
  {
   "cell_type": "code",
   "execution_count": 8,
   "metadata": {},
   "outputs": [
    {
     "data": {
      "text/html": [
       "<div>\n",
       "<style scoped>\n",
       "    .dataframe tbody tr th:only-of-type {\n",
       "        vertical-align: middle;\n",
       "    }\n",
       "\n",
       "    .dataframe tbody tr th {\n",
       "        vertical-align: top;\n",
       "    }\n",
       "\n",
       "    .dataframe thead th {\n",
       "        text-align: right;\n",
       "    }\n",
       "</style>\n",
       "<table border=\"1\" class=\"dataframe\">\n",
       "  <thead>\n",
       "    <tr style=\"text-align: right;\">\n",
       "      <th></th>\n",
       "      <th>Unnamed: 0</th>\n",
       "      <th>Scheduled Flights</th>\n",
       "      <th>Cancelled Flights</th>\n",
       "      <th>Percent Cancelled</th>\n",
       "    </tr>\n",
       "  </thead>\n",
       "  <tbody>\n",
       "    <tr>\n",
       "      <th>0</th>\n",
       "      <td>New York (JFK)</td>\n",
       "      <td>2062</td>\n",
       "      <td>30</td>\n",
       "      <td>1.45%</td>\n",
       "    </tr>\n",
       "    <tr>\n",
       "      <th>1</th>\n",
       "      <td>Los Angeles (LAX)</td>\n",
       "      <td>5271</td>\n",
       "      <td>59</td>\n",
       "      <td>1.12%</td>\n",
       "    </tr>\n",
       "    <tr>\n",
       "      <th>2</th>\n",
       "      <td>Chicago (ORD)</td>\n",
       "      <td>8183</td>\n",
       "      <td>354</td>\n",
       "      <td>4.33%</td>\n",
       "    </tr>\n",
       "    <tr>\n",
       "      <th>3</th>\n",
       "      <td>Dallas/Fort Worth (DFW)</td>\n",
       "      <td>19055</td>\n",
       "      <td>733</td>\n",
       "      <td>3.85%</td>\n",
       "    </tr>\n",
       "    <tr>\n",
       "      <th>4</th>\n",
       "      <td>Denver (DEN)</td>\n",
       "      <td>1238</td>\n",
       "      <td>42</td>\n",
       "      <td>3.39%</td>\n",
       "    </tr>\n",
       "    <tr>\n",
       "      <th>5</th>\n",
       "      <td>Totals</td>\n",
       "      <td>35809</td>\n",
       "      <td>1218</td>\n",
       "      <td>3.40%</td>\n",
       "    </tr>\n",
       "  </tbody>\n",
       "</table>\n",
       "</div>"
      ],
      "text/plain": [
       "                Unnamed: 0  Scheduled Flights  Cancelled Flights  \\\n",
       "0           New York (JFK)               2062                 30   \n",
       "1        Los Angeles (LAX)               5271                 59   \n",
       "2            Chicago (ORD)               8183                354   \n",
       "3  Dallas/Fort Worth (DFW)              19055                733   \n",
       "4             Denver (DEN)               1238                 42   \n",
       "5                   Totals              35809               1218   \n",
       "\n",
       "  Percent Cancelled  \n",
       "0             1.45%  \n",
       "1             1.12%  \n",
       "2             4.33%  \n",
       "3             3.85%  \n",
       "4             3.39%  \n",
       "5             3.40%  "
      ]
     },
     "execution_count": 8,
     "metadata": {},
     "output_type": "execute_result"
    }
   ],
   "source": [
    "data19_df = pd.DataFrame(data19)\n",
    "data19_df"
   ]
  },
  {
   "cell_type": "code",
   "execution_count": 10,
   "metadata": {},
   "outputs": [
    {
     "data": {
      "text/html": [
       "<div>\n",
       "<style scoped>\n",
       "    .dataframe tbody tr th:only-of-type {\n",
       "        vertical-align: middle;\n",
       "    }\n",
       "\n",
       "    .dataframe tbody tr th {\n",
       "        vertical-align: top;\n",
       "    }\n",
       "\n",
       "    .dataframe thead th {\n",
       "        text-align: right;\n",
       "    }\n",
       "</style>\n",
       "<table border=\"1\" class=\"dataframe\">\n",
       "  <thead>\n",
       "    <tr style=\"text-align: right;\">\n",
       "      <th></th>\n",
       "      <th>Unnamed: 0</th>\n",
       "      <th>Scheduled Flights</th>\n",
       "      <th>Cancelled Flights</th>\n",
       "      <th>Percent Cancelled</th>\n",
       "    </tr>\n",
       "  </thead>\n",
       "  <tbody>\n",
       "    <tr>\n",
       "      <th>0</th>\n",
       "      <td>New York (JFK)</td>\n",
       "      <td>1093</td>\n",
       "      <td>510</td>\n",
       "      <td>46.66%</td>\n",
       "    </tr>\n",
       "    <tr>\n",
       "      <th>1</th>\n",
       "      <td>Los Angeles (LAX)</td>\n",
       "      <td>3486</td>\n",
       "      <td>956</td>\n",
       "      <td>27.42%</td>\n",
       "    </tr>\n",
       "    <tr>\n",
       "      <th>2</th>\n",
       "      <td>Chicago (ORD)</td>\n",
       "      <td>5092</td>\n",
       "      <td>1768</td>\n",
       "      <td>34.72%</td>\n",
       "    </tr>\n",
       "    <tr>\n",
       "      <th>3</th>\n",
       "      <td>Dallas/Fort Worth (DFW)</td>\n",
       "      <td>14189</td>\n",
       "      <td>5492</td>\n",
       "      <td>38.71%</td>\n",
       "    </tr>\n",
       "    <tr>\n",
       "      <th>4</th>\n",
       "      <td>Denver (DEN)</td>\n",
       "      <td>892</td>\n",
       "      <td>251</td>\n",
       "      <td>28.14%</td>\n",
       "    </tr>\n",
       "    <tr>\n",
       "      <th>5</th>\n",
       "      <td>Totals</td>\n",
       "      <td>24752</td>\n",
       "      <td>8977</td>\n",
       "      <td>36.27%</td>\n",
       "    </tr>\n",
       "  </tbody>\n",
       "</table>\n",
       "</div>"
      ],
      "text/plain": [
       "                Unnamed: 0  Scheduled Flights  Cancelled Flights  \\\n",
       "0           New York (JFK)               1093                510   \n",
       "1        Los Angeles (LAX)               3486                956   \n",
       "2            Chicago (ORD)               5092               1768   \n",
       "3  Dallas/Fort Worth (DFW)              14189               5492   \n",
       "4             Denver (DEN)                892                251   \n",
       "5                   Totals              24752               8977   \n",
       "\n",
       "  Percent Cancelled  \n",
       "0            46.66%  \n",
       "1            27.42%  \n",
       "2            34.72%  \n",
       "3            38.71%  \n",
       "4            28.14%  \n",
       "5            36.27%  "
      ]
     },
     "execution_count": 10,
     "metadata": {},
     "output_type": "execute_result"
    }
   ],
   "source": [
    "data20_df = pd.DataFrame(data20)\n",
    "data20_df"
   ]
  },
  {
   "cell_type": "code",
   "execution_count": null,
   "metadata": {},
   "outputs": [],
   "source": []
  }
 ],
 "metadata": {
  "kernelspec": {
   "display_name": "Python 3",
   "language": "python",
   "name": "python3"
  },
  "language_info": {
   "codemirror_mode": {
    "name": "ipython",
    "version": 3
   },
   "file_extension": ".py",
   "mimetype": "text/x-python",
   "name": "python",
   "nbconvert_exporter": "python",
   "pygments_lexer": "ipython3",
   "version": "3.8.5"
  }
 },
 "nbformat": 4,
 "nbformat_minor": 4
}
